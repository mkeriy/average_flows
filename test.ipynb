{
 "cells": [
  {
   "cell_type": "code",
   "execution_count": 1,
   "metadata": {},
   "outputs": [],
   "source": [
    "from src.environments import HyperGridNT"
   ]
  },
  {
   "cell_type": "code",
   "execution_count": 2,
   "metadata": {},
   "outputs": [],
   "source": [
    "s = HyperGridNT()"
   ]
  },
  {
   "cell_type": "code",
   "execution_count": 3,
   "metadata": {},
   "outputs": [
    {
     "name": "stdout",
     "output_type": "stream",
     "text": [
      "tensor([[[0., 0.],\n",
      "         [1., 0.],\n",
      "         [2., 0.],\n",
      "         [3., 0.]],\n",
      "\n",
      "        [[0., 1.],\n",
      "         [1., 1.],\n",
      "         [2., 1.],\n",
      "         [3., 1.]],\n",
      "\n",
      "        [[0., 2.],\n",
      "         [1., 2.],\n",
      "         [2., 2.],\n",
      "         [3., 2.]],\n",
      "\n",
      "        [[0., 3.],\n",
      "         [1., 3.],\n",
      "         [2., 3.],\n",
      "         [3., 3.]]])\n",
      "n1 n2 ndim -> n2 n1 ndim\n",
      "tensor([[[0, 0],\n",
      "         [0, 1],\n",
      "         [0, 2],\n",
      "         [0, 3]],\n",
      "\n",
      "        [[1, 0],\n",
      "         [1, 1],\n",
      "         [1, 2],\n",
      "         [1, 3]],\n",
      "\n",
      "        [[2, 0],\n",
      "         [2, 1],\n",
      "         [2, 2],\n",
      "         [2, 3]],\n",
      "\n",
      "        [[3, 0],\n",
      "         [3, 1],\n",
      "         [3, 2],\n",
      "         [3, 3]]])\n"
     ]
    }
   ],
   "source": [
    "grid = s.build_grid()"
   ]
  },
  {
   "cell_type": "code",
   "execution_count": 38,
   "metadata": {},
   "outputs": [
    {
     "ename": "AttributeError",
     "evalue": "'HyperGridStates' object has no attribute 'grid'",
     "output_type": "error",
     "traceback": [
      "\u001b[0;31m---------------------------------------------------------------------------\u001b[0m",
      "\u001b[0;31mAttributeError\u001b[0m                            Traceback (most recent call last)",
      "Cell \u001b[0;32mIn[38], line 1\u001b[0m\n\u001b[0;32m----> 1\u001b[0m \u001b[43mgrid\u001b[49m\u001b[38;5;241;43m.\u001b[39;49m\u001b[43mgrid\u001b[49m\n",
      "\u001b[0;31mAttributeError\u001b[0m: 'HyperGridStates' object has no attribute 'grid'"
     ]
    }
   ],
   "source": [
    "grid.grid"
   ]
  },
  {
   "cell_type": "code",
   "execution_count": null,
   "metadata": {},
   "outputs": [],
   "source": []
  }
 ],
 "metadata": {
  "kernelspec": {
   "display_name": "average-flow",
   "language": "python",
   "name": "python3"
  },
  "language_info": {
   "codemirror_mode": {
    "name": "ipython",
    "version": 3
   },
   "file_extension": ".py",
   "mimetype": "text/x-python",
   "name": "python",
   "nbconvert_exporter": "python",
   "pygments_lexer": "ipython3",
   "version": "3.11.9"
  }
 },
 "nbformat": 4,
 "nbformat_minor": 2
}
